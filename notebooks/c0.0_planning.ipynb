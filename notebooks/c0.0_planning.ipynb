{
 "cells": [
  {
   "attachments": {},
   "cell_type": "markdown",
   "metadata": {},
   "source": [
    "# Output: O problema de negócio:\n",
    "\n",
    "O X5 usa mensagens de texto para incentivar os clientes a comprar mais. O envio de textos é caro, então gostaríamos de atingir um grupo específico de clientes, normalmente aqueles que veriam isso como um evento atraente. Em outras palavras, o objetivo é atingir aqueles clientes que não teriam feito uma compra sem essa comunicação. O objetivo é desenvolver um algoritmo que preveja se devemos ou não enviar uma mensagem de texto para o cliente.\n",
    "\n",
    "Isso é chamado de problema de modelagem de Uplifting\n",
    "\n",
    "# Input: \n",
    "Nós temos dados das compras anteriores ao experimento, dos clientes, dos produtos e do experimento (se receberam ou não o tratamento)\n",
    "\n",
    "# Tarefas:\n",
    "1. Criar nosso dataset de análise. Desafio é incluir análise das compras, visto o tamanho (~45 milhões de linhas)\n",
    "2. Fazer limpeza dos dados\n",
    "3. Fazer análise exploratória dos dados, identificando clientes em cada quadrante de um modelo de uplifting (Sure things, persuadables, lost causes e sleeping dogs)\n",
    "4. Aplicar um modelo de previsão de uplifting, conforme solicitado pela empresa"
   ]
  },
  {
   "cell_type": "code",
   "execution_count": null,
   "metadata": {},
   "outputs": [],
   "source": []
  }
 ],
 "metadata": {
  "language_info": {
   "name": "python"
  },
  "orig_nbformat": 4
 },
 "nbformat": 4,
 "nbformat_minor": 2
}
