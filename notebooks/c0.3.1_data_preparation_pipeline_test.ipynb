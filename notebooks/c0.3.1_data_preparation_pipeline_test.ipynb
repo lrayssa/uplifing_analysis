{
 "cells": [
  {
   "cell_type": "code",
   "execution_count": 1,
   "metadata": {},
   "outputs": [],
   "source": [
    "import pandas as pd\n",
    "from sklearn.preprocessing import RobustScaler, StandardScaler, OneHotEncoder, LabelEncoder\n",
    "from sklearn.pipeline import Pipeline\n",
    "from sklearn.compose import ColumnTransformer\n",
    "from sklearn.model_selection import train_test_split"
   ]
  },
  {
   "cell_type": "code",
   "execution_count": 2,
   "metadata": {},
   "outputs": [],
   "source": [
    "from utils.data_preprocessing import ChangeDtypes, DataTreatment, FeatureEngineering"
   ]
  },
  {
   "cell_type": "code",
   "execution_count": 3,
   "metadata": {},
   "outputs": [],
   "source": [
    "df = pd.read_csv('../data/df_raw.csv')"
   ]
  },
  {
   "cell_type": "code",
   "execution_count": 4,
   "metadata": {},
   "outputs": [],
   "source": [
    "df_train, df_val = train_test_split(df, test_size=0.30, stratify=df[['treatment_flg', 'target']], random_state=42)"
   ]
  },
  {
   "cell_type": "code",
   "execution_count": 5,
   "metadata": {},
   "outputs": [],
   "source": [
    "X = df_train.drop(columns=['treatment_flg', 'target'])\n",
    "y = df_train['treatment_flg']"
   ]
  },
  {
   "cell_type": "code",
   "execution_count": 6,
   "metadata": {},
   "outputs": [],
   "source": [
    "X_train, X_test, y_train, y_test = train_test_split(X, y, test_size=0.30, stratify=y, random_state=42)"
   ]
  },
  {
   "cell_type": "code",
   "execution_count": 7,
   "metadata": {},
   "outputs": [],
   "source": [
    "X_val = df_val.drop(columns=['treatment_flg', 'target'])\n",
    "y_val = df_val['treatment_flg']"
   ]
  },
  {
   "cell_type": "code",
   "execution_count": 8,
   "metadata": {},
   "outputs": [],
   "source": [
    "pipeline = Pipeline([('change d types', ChangeDtypes()),\n",
    "                     ('tratamento', DataTreatment()),\n",
    "                     ('feature engineering', FeatureEngineering())])"
   ]
  },
  {
   "cell_type": "code",
   "execution_count": 9,
   "metadata": {},
   "outputs": [],
   "source": [
    "X_train = pipeline.fit_transform(X_train)\n",
    "X_test = pipeline.transform(X_test)\n",
    "X_val = pipeline.transform(X_val)"
   ]
  },
  {
   "cell_type": "code",
   "execution_count": 10,
   "metadata": {},
   "outputs": [],
   "source": [
    "columns_robust = ['n_transactions', 'mean_product_quantity', 'n_stores',\n",
    "       'n_products', 'regular_points_received', 'express_points_received',\n",
    "       'regular_points_spent', 'express_points_spent', 'total_amount_spent', 'avg_ticket']\n",
    "columns_standard = ['age', 'recency', 'issue_redeem_delay' ]\n",
    "categorical = ['gender']"
   ]
  },
  {
   "cell_type": "code",
   "execution_count": 11,
   "metadata": {},
   "outputs": [],
   "source": [
    "rs = RobustScaler()\n",
    "X_train[columns_robust] = rs.fit_transform(X_train[columns_robust])\n",
    "X_test[columns_robust] = rs.transform(X_test[columns_robust])\n",
    "X_val[columns_robust] = rs.transform(X_val[columns_robust])"
   ]
  },
  {
   "cell_type": "code",
   "execution_count": 12,
   "metadata": {},
   "outputs": [],
   "source": [
    "ss = StandardScaler()\n",
    "X_train[columns_standard] = ss.fit_transform(X_train[columns_standard])\n",
    "X_test[columns_standard] = ss.transform(X_test[columns_standard])\n",
    "X_val[columns_standard] = ss.transform(X_val[columns_standard])"
   ]
  },
  {
   "cell_type": "code",
   "execution_count": 13,
   "metadata": {},
   "outputs": [],
   "source": [
    "ohe = OneHotEncoder(drop='first', sparse=False)\n",
    "X_train_ohe = pd.DataFrame(ohe.fit_transform(X_train['gender'].to_numpy().reshape(-1, 1)), columns=ohe.get_feature_names())\n",
    "X_train = pd.merge(X_train, X_train_ohe,  left_index=True, right_index=True)\n",
    "X_train= X_train.drop(columns=['gender'])\n",
    "X_test_ohe = pd.DataFrame(ohe.transform(X_test['gender'].to_numpy().reshape(-1, 1)), columns=ohe.get_feature_names())\n",
    "X_test = pd.merge(X_test, X_test_ohe,  left_index=True, right_index=True)\n",
    "X_test= X_test.drop(columns=['gender'])\n",
    "X_val_ohe = pd.DataFrame(ohe.transform(X_val['gender'].to_numpy().reshape(-1, 1)), columns=ohe.get_feature_names())\n",
    "X_val = pd.merge(X_val, X_val_ohe,  left_index=True, right_index=True)\n",
    "X_val= X_val.drop(columns=['gender'])"
   ]
  },
  {
   "cell_type": "code",
   "execution_count": 13,
   "metadata": {},
   "outputs": [],
   "source": [
    "df.to_csv('../data/df_processed.csv')"
   ]
  }
 ],
 "metadata": {
  "kernelspec": {
   "display_name": "cds_projects",
   "language": "python",
   "name": "python3"
  },
  "language_info": {
   "codemirror_mode": {
    "name": "ipython",
    "version": 3
   },
   "file_extension": ".py",
   "mimetype": "text/x-python",
   "name": "python",
   "nbconvert_exporter": "python",
   "pygments_lexer": "ipython3",
   "version": "3.8.8"
  },
  "orig_nbformat": 4
 },
 "nbformat": 4,
 "nbformat_minor": 2
}
